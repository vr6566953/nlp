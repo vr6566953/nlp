{
  "nbformat": 4,
  "nbformat_minor": 0,
  "metadata": {
    "colab": {
      "name": "venkat.ipynb",
      "provenance": [],
      "collapsed_sections": [],
      "toc_visible": true
    },
    "kernelspec": {
      "name": "python3",
      "display_name": "Python 3"
    },
    "accelerator": "GPU"
  },
  "cells": [
    {
      "cell_type": "code",
      "metadata": {
        "id": "f5wTzCOxoTgx",
        "colab_type": "code",
        "outputId": "4dfba8b8-3c1c-479f-996a-e061ccc2ccb3",
        "colab": {
          "base_uri": "https://localhost:8080/",
          "height": 119
        }
      },
      "source": [
        "#libraries imported\n",
        "\n",
        "import pandas as pd\n",
        "import matplotlib.pyplot as plt\n",
        "import numpy as np\n",
        "from keras.utils import to_categorical\n",
        "import nltk\n",
        "nltk.download('punkt')\n",
        "nltk.download('stopwords')\n",
        "nltk.download('wordnet')\n",
        "from nltk.corpus import movie_reviews\n",
        "from nltk.corpus import stopwords\n",
        "from nltk.tokenize import word_tokenize\n",
        "from nltk.stem import WordNetLemmatizer, PorterStemmer, LancasterStemmer\n",
        "from sklearn.model_selection import train_test_split\n",
        "from google.colab import drive"
      ],
      "execution_count": 0,
      "outputs": [
        {
          "output_type": "stream",
          "text": [
            "[nltk_data] Downloading package punkt to /root/nltk_data...\n",
            "[nltk_data]   Unzipping tokenizers/punkt.zip.\n",
            "[nltk_data] Downloading package stopwords to /root/nltk_data...\n",
            "[nltk_data]   Unzipping corpora/stopwords.zip.\n",
            "[nltk_data] Downloading package wordnet to /root/nltk_data...\n",
            "[nltk_data]   Unzipping corpora/wordnet.zip.\n"
          ],
          "name": "stdout"
        }
      ]
    },
    {
      "cell_type": "code",
      "metadata": {
        "id": "QWNaxy3nocgR",
        "colab_type": "code",
        "colab": {}
      },
      "source": [
        "#reading dataset\n",
        "dataset = pd.read_csv(\"https://raw.githubusercontent.com/cacoderquan/Sentiment-Analysis-on-the-Rotten-Tomatoes-movie-review-dataset/master/train.tsv\", sep = '\\t')\n",
        "dataset = dataset.loc[:, 'Phrase':'Sentiment']\n",
        "# dataset = dataset.drop(columns = ['PhraseId', 'SentenceId'])\n",
        "documents = dataset.values.tolist()"
      ],
      "execution_count": 0,
      "outputs": []
    },
    {
      "cell_type": "markdown",
      "metadata": {
        "id": "Y-RnsRMpFuwU",
        "colab_type": "text"
      },
      "source": [
        ""
      ]
    },
    {
      "cell_type": "code",
      "metadata": {
        "id": "UB9HBzuHooYU",
        "colab_type": "code",
        "colab": {}
      },
      "source": [
        "porter = PorterStemmer()\n",
        "lancaster = LancasterStemmer()\n",
        "\n",
        "wordnet_lemmatizer = WordNetLemmatizer()\n",
        "stop_words = set(stopwords.words('english'))\n",
        "punctuations = '-\\'?:!.,;\\\"()'\n",
        "\n",
        "remove_stopwords = True\n",
        "useStemming = False\n",
        "useLemma = True\n",
        "removePuncs = True\n",
        "\n",
        "for l in range(len(documents)):\n",
        "  label = documents[l][1]\n",
        "  tempReview = []\n",
        "  for w in documents[l][0].split(' '):\n",
        "    newWord = w\n",
        "    if remove_stopwords and (w in stop_words):\n",
        "      continue\n",
        "    if removePuncs and (w in punctuations):\n",
        "      continue\n",
        "    if useStemming:\n",
        "      newWord = porter.stem(newWord)\n",
        "    if useLemma:\n",
        "      newWord = wordnet_lemmatizer.lemmatize(newWord)\n",
        "    tempReview.append(newWord)\n",
        "    \n",
        "    documents[l] = (' '.join(tempReview), label)"
      ],
      "execution_count": 0,
      "outputs": []
    },
    {
      "cell_type": "code",
      "metadata": {
        "id": "kFCQJ_oEou0u",
        "colab_type": "code",
        "colab": {}
      },
      "source": [
        "#bag of words . TF-IDF\n",
        "from sklearn.feature_extraction.text import TfidfVectorizer\n",
        "from sklearn.feature_extraction.text import CountVectorizer\n",
        "vectorizer = CountVectorizer(stop_words = 'english', ngram_range= (1,1), max_features=1500)"
      ],
      "execution_count": 0,
      "outputs": []
    },
    {
      "cell_type": "code",
      "metadata": {
        "id": "y8Kr7-mMozP2",
        "colab_type": "code",
        "colab": {}
      },
      "source": [
        "#Splitting of raw data \n",
        "all_data = pd.DataFrame(documents, columns=['Phrase', 'Sentiment'])\n",
        "x_train, x_test, y_train, y_test = train_test_split(all_data['Phrase'], all_data['Sentiment'], train_size = 0.7, shuffle = True, random_state = 2003)"
      ],
      "execution_count": 0,
      "outputs": []
    },
    {
      "cell_type": "code",
      "metadata": {
        "id": "ZNOHBMvto6uh",
        "colab_type": "code",
        "colab": {}
      },
      "source": [
        "#vectorization\n",
        "X = vectorizer.fit_transform(all_data['Phrase'])\n",
        "x_train = vectorizer.transform(x_train)\n",
        "x_test = vectorizer.transform(x_test)"
      ],
      "execution_count": 0,
      "outputs": []
    },
    {
      "cell_type": "code",
      "metadata": {
        "id": "kbPcFwH1pASU",
        "colab_type": "code",
        "colab": {}
      },
      "source": [
        "\n",
        "x_train_np = x_train.toarray()\n",
        "y_train_np = to_categorical(y_train)\n",
        "x_test_np = x_test.toarray()\n",
        "y_test_np = to_categorical(y_test)"
      ],
      "execution_count": 0,
      "outputs": []
    },
    {
      "cell_type": "code",
      "metadata": {
        "id": "bI6SwI5WpDMc",
        "colab_type": "code",
        "colab": {}
      },
      "source": [
        "x_train = np.expand_dims(x_train_np, axis=2)\n",
        "x_test = np.expand_dims(x_test_np, axis=2)"
      ],
      "execution_count": 0,
      "outputs": []
    },
    {
      "cell_type": "code",
      "metadata": {
        "id": "XrC7AXMTpIHi",
        "colab_type": "code",
        "colab": {}
      },
      "source": [
        "#model\n",
        "from keras.models import Sequential\n",
        "from keras.layers import Dense, Conv1D, Flatten, MaxPooling1D\n",
        "\n",
        "batch_size = 128\n",
        "# inputs = inputs\n",
        "# outputs =outputs\n",
        "#create model\n",
        "model = Sequential()\n",
        "model.add(Conv1D(filters = 128, kernel_size=1, activation='relu', input_shape=(x_train_np.shape[1],1)))\n",
        "model.add(Conv1D(filters = 128, kernel_size=1, activation='relu'))\n",
        "model.add(Conv1D(filters = 128, kernel_size=1, activation='relu'))\n",
        "model.add(MaxPooling1D(pool_size =2))\n",
        "model.add(Flatten())\n",
        "model.add(Dense(100, activation='relu'))\n",
        "model.add(Dense(5, activation='softmax'))\n"
      ],
      "execution_count": 0,
      "outputs": []
    },
    {
      "cell_type": "code",
      "metadata": {
        "id": "icAi83kvLwXD",
        "colab_type": "code",
        "outputId": "18c20791-99e2-4edc-d17a-19070140352e",
        "colab": {
          "base_uri": "https://localhost:8080/",
          "height": 391
        }
      },
      "source": [
        "model.summary()"
      ],
      "execution_count": 77,
      "outputs": [
        {
          "output_type": "stream",
          "text": [
            "Model: \"sequential_7\"\n",
            "_________________________________________________________________\n",
            "Layer (type)                 Output Shape              Param #   \n",
            "=================================================================\n",
            "conv1d_14 (Conv1D)           (None, 1500, 128)         256       \n",
            "_________________________________________________________________\n",
            "conv1d_15 (Conv1D)           (None, 1500, 128)         16512     \n",
            "_________________________________________________________________\n",
            "conv1d_16 (Conv1D)           (None, 1500, 128)         16512     \n",
            "_________________________________________________________________\n",
            "max_pooling1d_10 (MaxPooling (None, 750, 128)          0         \n",
            "_________________________________________________________________\n",
            "flatten_6 (Flatten)          (None, 96000)             0         \n",
            "_________________________________________________________________\n",
            "dense_6 (Dense)              (None, 100)               9600100   \n",
            "_________________________________________________________________\n",
            "dense_7 (Dense)              (None, 5)                 505       \n",
            "=================================================================\n",
            "Total params: 9,633,885\n",
            "Trainable params: 9,633,885\n",
            "Non-trainable params: 0\n",
            "_________________________________________________________________\n"
          ],
          "name": "stdout"
        }
      ]
    },
    {
      "cell_type": "code",
      "metadata": {
        "id": "saH6X-0upMW0",
        "colab_type": "code",
        "outputId": "021846cb-6c37-45d5-c2ed-a1b66345bb0e",
        "colab": {
          "base_uri": "https://localhost:8080/",
          "height": 411
        }
      },
      "source": [
        "#training\n",
        "\n",
        "model.compile(optimizer='adam', loss='categorical_crossentropy', metrics=['acc'])\n",
        "model.fit(x_train, y_train_np, validation_data=(x_test, y_test_np), epochs = 10, batch_size = 128)"
      ],
      "execution_count": 69,
      "outputs": [
        {
          "output_type": "stream",
          "text": [
            "Train on 109242 samples, validate on 46818 samples\n",
            "Epoch 1/10\n",
            "109242/109242 [==============================] - 82s 748us/step - loss: 0.7596 - acc: 0.7013 - val_loss: 1.1741 - val_acc: 0.6060\n",
            "Epoch 2/10\n",
            "109242/109242 [==============================] - 80s 735us/step - loss: 0.7573 - acc: 0.7021 - val_loss: 1.1910 - val_acc: 0.6045\n",
            "Epoch 3/10\n",
            "109242/109242 [==============================] - 80s 737us/step - loss: 0.7557 - acc: 0.7029 - val_loss: 1.1832 - val_acc: 0.6058\n",
            "Epoch 4/10\n",
            "109242/109242 [==============================] - 80s 737us/step - loss: 0.7538 - acc: 0.7027 - val_loss: 1.2080 - val_acc: 0.6042\n",
            "Epoch 5/10\n",
            "109242/109242 [==============================] - 80s 735us/step - loss: 0.7524 - acc: 0.7022 - val_loss: 1.2453 - val_acc: 0.6047\n",
            "Epoch 6/10\n",
            "109242/109242 [==============================] - 81s 737us/step - loss: 0.7506 - acc: 0.7033 - val_loss: 1.1972 - val_acc: 0.6056\n",
            "Epoch 7/10\n",
            "109242/109242 [==============================] - 81s 738us/step - loss: 0.7490 - acc: 0.7038 - val_loss: 1.2032 - val_acc: 0.6055\n",
            "Epoch 8/10\n",
            "109242/109242 [==============================] - 81s 737us/step - loss: 0.7485 - acc: 0.7042 - val_loss: 1.2194 - val_acc: 0.6045\n",
            "Epoch 9/10\n",
            "109242/109242 [==============================] - 80s 731us/step - loss: 0.7469 - acc: 0.7042 - val_loss: 1.2273 - val_acc: 0.6021\n",
            "Epoch 10/10\n",
            "109242/109242 [==============================] - 80s 735us/step - loss: 0.7452 - acc: 0.7050 - val_loss: 1.1988 - val_acc: 0.6043\n"
          ],
          "name": "stdout"
        },
        {
          "output_type": "execute_result",
          "data": {
            "text/plain": [
              "<keras.callbacks.History at 0x7fa318a0a898>"
            ]
          },
          "metadata": {
            "tags": []
          },
          "execution_count": 69
        }
      ]
    },
    {
      "cell_type": "markdown",
      "metadata": {
        "id": "Ff5EYI-QryYc",
        "colab_type": "text"
      },
      "source": [
        ""
      ]
    },
    {
      "cell_type": "code",
      "metadata": {
        "id": "PCxDZK5_pb03",
        "colab_type": "code",
        "colab": {}
      },
      "source": [
        "train_accuracy = model.evaluate(x_train, y_train_np, verbose=0) \n",
        "test_accuracy = model.evaluate(x_test, y_test_np, verbose=0)"
      ],
      "execution_count": 0,
      "outputs": []
    },
    {
      "cell_type": "code",
      "metadata": {
        "id": "GMBf5YGY6iIW",
        "colab_type": "code",
        "outputId": "f73fba14-d7f0-49b5-a27a-000f351105a3",
        "colab": {
          "base_uri": "https://localhost:8080/",
          "height": 51
        }
      },
      "source": [
        "print(\"train accuracy: %.2f%%\" % (train_accuracy[1]*100))\n",
        "print(\"test_accuracy: %.2f%%\" % (test_accuracy[1]*100))"
      ],
      "execution_count": 71,
      "outputs": [
        {
          "output_type": "stream",
          "text": [
            "train accuracy: 72.52%\n",
            "test_accuracy: 60.43%\n"
          ],
          "name": "stdout"
        }
      ]
    },
    {
      "cell_type": "code",
      "metadata": {
        "id": "nF3j6TEa7YeX",
        "colab_type": "code",
        "colab": {}
      },
      "source": [
        "\n",
        "# predict probabilities for test set\n",
        "#yhat_probs = model.predict(x_test, verbose=0)\n",
        "# predict crisp classes for test set\n",
        "#yhat_classes = model.predict_classes(x_test, verbose=0)\n",
        "model.save(\"1110790_1dconv_reg.h5\")"
      ],
      "execution_count": 0,
      "outputs": []
    },
    {
      "cell_type": "code",
      "metadata": {
        "id": "GWEZEnJBXEjd",
        "colab_type": "code",
        "colab": {}
      },
      "source": [
        "from keras.models import load_model\n",
        "model = load_model(\"1110790_1dconv_reg.h5\")"
      ],
      "execution_count": 0,
      "outputs": []
    },
    {
      "cell_type": "markdown",
      "metadata": {
        "id": "P3U3eYgrCBp1",
        "colab_type": "text"
      },
      "source": [
        "# New Section"
      ]
    },
    {
      "cell_type": "code",
      "metadata": {
        "id": "40MKLlYManVX",
        "colab_type": "code",
        "colab": {
          "base_uri": "https://localhost:8080/",
          "height": 391
        },
        "outputId": "55ecbc91-6907-44d3-966c-dbc75b7b00be"
      },
      "source": [
        "#testing\n",
        "model.summary()\n",
        "y_pred = model.predict_classes(x_test, batch_size=128, verbose=0)\n"
      ],
      "execution_count": 74,
      "outputs": [
        {
          "output_type": "stream",
          "text": [
            "Model: \"sequential_7\"\n",
            "_________________________________________________________________\n",
            "Layer (type)                 Output Shape              Param #   \n",
            "=================================================================\n",
            "conv1d_14 (Conv1D)           (None, 1500, 128)         256       \n",
            "_________________________________________________________________\n",
            "conv1d_15 (Conv1D)           (None, 1500, 128)         16512     \n",
            "_________________________________________________________________\n",
            "conv1d_16 (Conv1D)           (None, 1500, 128)         16512     \n",
            "_________________________________________________________________\n",
            "max_pooling1d_10 (MaxPooling (None, 750, 128)          0         \n",
            "_________________________________________________________________\n",
            "flatten_6 (Flatten)          (None, 96000)             0         \n",
            "_________________________________________________________________\n",
            "dense_6 (Dense)              (None, 100)               9600100   \n",
            "_________________________________________________________________\n",
            "dense_7 (Dense)              (None, 5)                 505       \n",
            "=================================================================\n",
            "Total params: 9,633,885\n",
            "Trainable params: 9,633,885\n",
            "Non-trainable params: 0\n",
            "_________________________________________________________________\n"
          ],
          "name": "stdout"
        }
      ]
    },
    {
      "cell_type": "code",
      "metadata": {
        "id": "9Omh3YM0eJ2d",
        "colab_type": "code",
        "colab": {}
      },
      "source": [
        "ro=np.argmax(y_test_np, axis=1)\n"
      ],
      "execution_count": 0,
      "outputs": []
    },
    {
      "cell_type": "code",
      "metadata": {
        "id": "5lKkYH9y8A-i",
        "colab_type": "code",
        "outputId": "e91f4832-5609-41ec-ef3f-b0d04fc50708",
        "colab": {
          "base_uri": "https://localhost:8080/",
          "height": 85
        }
      },
      "source": [
        "from sklearn.metrics import accuracy_score\n",
        "from sklearn.metrics import precision_score\n",
        "from sklearn.metrics import recall_score\n",
        "from sklearn.metrics import f1_score\n",
        "\n",
        "accuracy = accuracy_score(ro, y_pred)\n",
        "print('Accuracy: %f' % accuracy)\n",
        "# precision tp / (tp + fp)\n",
        "precision = precision_score(ro, y_pred, average='weighted')\n",
        "print('Precision: %f' % precision)\n",
        "# recall: tp / (tp + fn)\n",
        "recall = recall_score(ro, y_pred, average='weighted')\n",
        "print('Recall: %f' % recall)\n",
        "# f1: 2 tp / (2 tp + fp + fn)\n",
        "f1 = f1_score(ro, y_pred, average='weighted')\n",
        "print('F1 score: %f' % f1)"
      ],
      "execution_count": 76,
      "outputs": [
        {
          "output_type": "stream",
          "text": [
            "Accuracy: 0.604340\n",
            "Precision: 0.581449\n",
            "Recall: 0.604340\n",
            "F1 score: 0.579907\n"
          ],
          "name": "stdout"
        }
      ]
    },
    {
      "cell_type": "code",
      "metadata": {
        "id": "vdhuK2FTakKs",
        "colab_type": "code",
        "colab": {}
      },
      "source": [
        ""
      ],
      "execution_count": 0,
      "outputs": []
    }
  ]
}